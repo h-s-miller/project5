{
 "cells": [
  {
   "cell_type": "code",
   "execution_count": 44,
   "id": "97f9ba50-e684-4e15-8e44-4faeabd3f893",
   "metadata": {},
   "outputs": [],
   "source": [
    "from cluster import (\n",
    "  make_clusters, \n",
    "  plot_clusters, \n",
    "  plot_multipanel)"
   ]
  },
  {
   "cell_type": "code",
   "execution_count": 87,
   "id": "f8b8fd39-174f-4cf1-99e2-6e4d9a4f75df",
   "metadata": {},
   "outputs": [],
   "source": [
    "from cluster import KMeans, Silhouette"
   ]
  },
  {
   "cell_type": "code",
   "execution_count": null,
   "id": "9058d802-1e88-425e-80b8-f5cf445c1b31",
   "metadata": {},
   "outputs": [],
   "source": []
  },
  {
   "cell_type": "code",
   "execution_count": 38,
   "id": "5fa4f1a1-39ec-4f67-b825-f4bde8b59cfd",
   "metadata": {},
   "outputs": [],
   "source": [
    "# here we are making tightly clustered data by lowering the scale param\n",
    "t_clusters, t_labels = make_clusters(scale=0.3) "
   ]
  },
  {
   "cell_type": "code",
   "execution_count": 3,
   "id": "f2112510-aa42-49bb-ba08-8955a9d091e0",
   "metadata": {},
   "outputs": [],
   "source": [
    "\n",
    "# here we are making loosely clustered data by increasing the scale param\n",
    "l_clusters, l_labels = make_clusters(scale=2) "
   ]
  },
  {
   "cell_type": "code",
   "execution_count": 4,
   "id": "0f5a4450-d13b-4176-9955-6dc1529cd049",
   "metadata": {},
   "outputs": [],
   "source": [
    "# here we are making many clusters by adjusting the `k` param\n",
    "m_clusters, m_labels = make_clusters(k=10)"
   ]
  },
  {
   "cell_type": "code",
   "execution_count": 5,
   "id": "80fe145a-61bc-435e-8861-cd2450912755",
   "metadata": {},
   "outputs": [],
   "source": [
    "# here we are directly controlling the dimensionality of our data \n",
    "#   1000 observations \n",
    "#   200 features \n",
    "#   3 clusters)\n",
    "d_clusters, d_labels = make_clusters(n=1000, m=200, k=3)"
   ]
  },
  {
   "cell_type": "code",
   "execution_count": 10,
   "id": "4e5aade5-1dbc-4e59-acf9-2cd37f1ade7c",
   "metadata": {},
   "outputs": [
    {
     "data": {
      "text/plain": [
       "array([0, 0, 0, 0, 0, 0, 0, 0, 0, 0, 0, 0, 0, 0, 0, 0, 0, 0, 0, 0, 0, 0,\n",
       "       0, 0, 0, 0, 0, 0, 0, 0, 0, 0, 0, 0, 0, 0, 0, 0, 0, 0, 0, 0, 0, 0,\n",
       "       0, 0, 0, 0, 0, 0, 0, 0, 0, 0, 0, 0, 0, 0, 0, 0, 0, 0, 0, 0, 0, 0,\n",
       "       0, 0, 0, 0, 0, 0, 0, 0, 0, 0, 0, 0, 0, 0, 0, 0, 0, 0, 0, 0, 0, 0,\n",
       "       0, 0, 0, 0, 0, 0, 0, 0, 0, 0, 0, 0, 0, 0, 0, 0, 0, 0, 0, 0, 0, 0,\n",
       "       0, 0, 0, 0, 0, 0, 0, 0, 0, 0, 0, 0, 0, 0, 0, 0, 0, 0, 0, 0, 0, 0,\n",
       "       0, 0, 0, 0, 0, 0, 0, 0, 0, 0, 0, 0, 0, 0, 0, 0, 0, 0, 0, 0, 0, 0,\n",
       "       0, 0, 0, 0, 0, 0, 0, 0, 0, 0, 0, 0, 0, 0, 1, 1, 1, 1, 1, 1, 1, 1,\n",
       "       1, 1, 1, 1, 1, 1, 1, 1, 1, 1, 1, 1, 1, 1, 1, 1, 1, 1, 1, 1, 1, 1,\n",
       "       1, 1, 1, 1, 1, 1, 1, 1, 1, 1, 1, 1, 1, 1, 1, 1, 1, 1, 1, 1, 1, 1,\n",
       "       1, 1, 1, 1, 1, 1, 1, 1, 1, 1, 1, 1, 1, 1, 1, 1, 1, 1, 1, 1, 1, 1,\n",
       "       1, 1, 1, 1, 1, 1, 1, 1, 1, 1, 1, 1, 1, 1, 1, 1, 1, 1, 1, 1, 1, 1,\n",
       "       1, 1, 1, 1, 1, 1, 1, 1, 1, 1, 1, 1, 1, 1, 1, 1, 1, 1, 1, 1, 1, 1,\n",
       "       1, 1, 1, 1, 1, 1, 1, 1, 1, 1, 1, 1, 1, 1, 1, 1, 1, 1, 1, 1, 1, 1,\n",
       "       1, 1, 1, 1, 1, 1, 1, 1, 1, 1, 1, 1, 1, 1, 1, 1, 1, 1, 1, 1, 1, 1,\n",
       "       1, 1, 1, 1, 1, 2, 2, 2, 2, 2, 2, 2, 2, 2, 2, 2, 2, 2, 2, 2, 2, 2,\n",
       "       2, 2, 2, 2, 2, 2, 2, 2, 2, 2, 2, 2, 2, 2, 2, 2, 2, 2, 2, 2, 2, 2,\n",
       "       2, 2, 2, 2, 2, 2, 2, 2, 2, 2, 2, 2, 2, 2, 2, 2, 2, 2, 2, 2, 2, 2,\n",
       "       2, 2, 2, 2, 2, 2, 2, 2, 2, 2, 2, 2, 2, 2, 2, 2, 2, 2, 2, 2, 2, 2,\n",
       "       2, 2, 2, 2, 2, 2, 2, 2, 2, 2, 2, 2, 2, 2, 2, 2, 2, 2, 2, 2, 2, 2,\n",
       "       2, 2, 2, 2, 2, 2, 2, 2, 2, 2, 2, 2, 2, 2, 2, 2, 2, 2, 2, 2, 2, 2,\n",
       "       2, 2, 2, 2, 2, 2, 2, 2, 2, 2, 2, 2, 2, 2, 2, 2, 2, 2, 2, 2, 2, 2,\n",
       "       2, 2, 2, 2, 2, 2, 2, 2, 2, 2, 2, 2, 2, 2, 2, 2])"
      ]
     },
     "execution_count": 10,
     "metadata": {},
     "output_type": "execute_result"
    }
   ],
   "source": [
    "t_labels"
   ]
  },
  {
   "cell_type": "code",
   "execution_count": 6,
   "id": "51f9a957-9719-4d31-8c08-59130d22c0bf",
   "metadata": {},
   "outputs": [
    {
     "data": {
      "image/png": "[encoded data removed]",
      "text/plain": [
       "<Figure size 1000x1000 with 1 Axes>"
      ]
     },
     "metadata": {
      "needs_background": "light"
     },
     "output_type": "display_data"
    }
   ],
   "source": [
    "\n",
    "# show the visualization for some clusters and their associated labels\n",
    "plot_clusters(t_clusters, t_labels)"
   ]
  },
  {
   "cell_type": "code",
   "execution_count": 7,
   "id": "18f0863e-ab45-48eb-b5c4-3cd36718afb8",
   "metadata": {},
   "outputs": [
    {
     "ename": "NameError",
     "evalue": "name 'pred_labels' is not defined",
     "output_type": "error",
     "traceback": [
      "\u001b[0;31m---------------------------------------------------------------------------\u001b[0m",
      "\u001b[0;31mNameError\u001b[0m                                 Traceback (most recent call last)",
      "\u001b[0;32m/var/folders/70/t96qvy6n0z9985j9fbhk2dnc0000gn/T/ipykernel_23341/3631704801.py\u001b[0m in \u001b[0;36m<module>\u001b[0;34m\u001b[0m\n\u001b[1;32m      2\u001b[0m \u001b[0;31m# you will need to calculate these predicted labels with your kmeans implementation and the scores\u001b[0m\u001b[0;34m\u001b[0m\u001b[0;34m\u001b[0m\u001b[0m\n\u001b[1;32m      3\u001b[0m \u001b[0;31m# with your silhouette score implementation\u001b[0m\u001b[0;34m\u001b[0m\u001b[0;34m\u001b[0m\u001b[0m\n\u001b[0;32m----> 4\u001b[0;31m \u001b[0mplot_multipanel\u001b[0m\u001b[0;34m(\u001b[0m\u001b[0mt_clusters\u001b[0m\u001b[0;34m,\u001b[0m \u001b[0mt_labels\u001b[0m\u001b[0;34m,\u001b[0m \u001b[0mpred_labels\u001b[0m\u001b[0;34m,\u001b[0m \u001b[0mscores\u001b[0m\u001b[0;34m)\u001b[0m\u001b[0;34m\u001b[0m\u001b[0;34m\u001b[0m\u001b[0m\n\u001b[0m",
      "\u001b[0;31mNameError\u001b[0m: name 'pred_labels' is not defined"
     ]
    }
   ],
   "source": [
    "# show a multipanel visualization of clusters with true labels, predicted labels, and silhouette scores\n",
    "# you will need to calculate these predicted labels with your kmeans implementation and the scores \n",
    "# with your silhouette score implementation\n",
    "plot_multipanel(t_clusters, t_labels, pred_labels, scores)"
   ]
  },
  {
   "cell_type": "code",
   "execution_count": 88,
   "id": "18bb82b9-adf3-4fca-a13e-526254a1322d",
   "metadata": {},
   "outputs": [],
   "source": [
    "kk=KMeans(k=3)\n"
   ]
  },
  {
   "cell_type": "code",
   "execution_count": 89,
   "id": "519d5d93-f579-41a3-a6ed-000be0aed5f1",
   "metadata": {},
   "outputs": [
    {
     "data": {
      "text/plain": [
       "3"
      ]
     },
     "execution_count": 89,
     "metadata": {},
     "output_type": "execute_result"
    }
   ],
   "source": [
    "kk.k"
   ]
  },
  {
   "cell_type": "code",
   "execution_count": 90,
   "id": "814eabdf-0321-4f7b-8960-f94026feb29a",
   "metadata": {},
   "outputs": [
    {
     "data": {
      "text/plain": [
       "1e-06"
      ]
     },
     "execution_count": 90,
     "metadata": {},
     "output_type": "execute_result"
    }
   ],
   "source": [
    "kk.tol"
   ]
  },
  {
   "cell_type": "code",
   "execution_count": 91,
   "id": "7ef204a9-a4f5-4f11-b81b-268ff14c2ad0",
   "metadata": {},
   "outputs": [
    {
     "data": {
      "text/plain": [
       "<cluster.kmeans.KMeans at 0x12d7ccc40>"
      ]
     },
     "execution_count": 91,
     "metadata": {},
     "output_type": "execute_result"
    }
   ],
   "source": [
    "kk\n"
   ]
  },
  {
   "cell_type": "code",
   "execution_count": 92,
   "id": "327620b0-77e2-4299-9894-cc7d32f88468",
   "metadata": {},
   "outputs": [
    {
     "ename": "NameError",
     "evalue": "name 'k' is not defined",
     "output_type": "error",
     "traceback": [
      "\u001b[0;31m---------------------------------------------------------------------------\u001b[0m",
      "\u001b[0;31mNameError\u001b[0m                                 Traceback (most recent call last)",
      "\u001b[0;32m/var/folders/70/t96qvy6n0z9985j9fbhk2dnc0000gn/T/ipykernel_23341/205273147.py\u001b[0m in \u001b[0;36m<module>\u001b[0;34m\u001b[0m\n\u001b[0;32m----> 1\u001b[0;31m \u001b[0mkk\u001b[0m\u001b[0;34m.\u001b[0m\u001b[0mfit\u001b[0m\u001b[0;34m(\u001b[0m\u001b[0mt_labels\u001b[0m\u001b[0;34m)\u001b[0m\u001b[0;34m\u001b[0m\u001b[0;34m\u001b[0m\u001b[0m\n\u001b[0m",
      "\u001b[0;32m~/mambaforge/lib/python3.9/site-packages/cluster/kmeans.py\u001b[0m in \u001b[0;36mfit\u001b[0;34m(self, mat)\u001b[0m\n\u001b[1;32m     44\u001b[0m         \u001b[0;32mreturn\u001b[0m \u001b[0mcentroids\u001b[0m\u001b[0;34m\u001b[0m\u001b[0;34m\u001b[0m\u001b[0m\n\u001b[1;32m     45\u001b[0m     \u001b[0;32mdef\u001b[0m \u001b[0m_assign_to_cluster\u001b[0m\u001b[0;34m(\u001b[0m\u001b[0mself\u001b[0m\u001b[0;34m,\u001b[0m  \u001b[0mmat\u001b[0m\u001b[0;34m:\u001b[0m \u001b[0mnp\u001b[0m\u001b[0;34m.\u001b[0m\u001b[0mndarray\u001b[0m\u001b[0;34m)\u001b[0m\u001b[0;34m:\u001b[0m\u001b[0;34m\u001b[0m\u001b[0;34m\u001b[0m\u001b[0m\n\u001b[0;32m---> 46\u001b[0;31m         \u001b[0;31m##### calculate distance of each observation to each centroid #####\u001b[0m\u001b[0;34m\u001b[0m\u001b[0;34m\u001b[0m\u001b[0m\n\u001b[0m\u001b[1;32m     47\u001b[0m         \u001b[0;31m# mat \\exists [n_obs,n_features] and centroids \\exists [k,n_feautures]\u001b[0m\u001b[0;34m\u001b[0m\u001b[0;34m\u001b[0m\u001b[0m\n\u001b[1;32m     48\u001b[0m         \u001b[0;31m# --> dists \\exists [n_obs,k]\u001b[0m\u001b[0;34m\u001b[0m\u001b[0;34m\u001b[0m\u001b[0m\n",
      "\u001b[0;31mNameError\u001b[0m: name 'k' is not defined"
     ]
    }
   ],
   "source": [
    "kk.fit(t_labels)"
   ]
  }
 ],
 "metadata": {
  "kernelspec": {
   "display_name": "Python 3 (ipykernel)",
   "language": "python",
   "name": "python3"
  },
  "language_info": {
   "codemirror_mode": {
    "name": "ipython",
    "version": 3
   },
   "file_extension": ".py",
   "mimetype": "text/x-python",
   "name": "python",
   "nbconvert_exporter": "python",
   "pygments_lexer": "ipython3",
   "version": "3.9.7"
  }
 },
 "nbformat": 4,
 "nbformat_minor": 5
}
